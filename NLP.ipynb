{
 "cells": [
  {
   "cell_type": "code",
   "execution_count": 1,
   "id": "3111c755",
   "metadata": {},
   "outputs": [],
   "source": [
    "\n",
    "import string"
   ]
  },
  {
   "cell_type": "code",
   "execution_count": 2,
   "id": "f4fedb36",
   "metadata": {},
   "outputs": [],
   "source": [
    "from nltk.corpus import stopwords"
   ]
  },
  {
   "cell_type": "code",
   "execution_count": 3,
   "id": "3db95546",
   "metadata": {},
   "outputs": [],
   "source": [
    "# step 1 break sentence into words\n",
    "sent = \"this class is difficult.\"\n"
   ]
  },
  {
   "cell_type": "code",
   "execution_count": 4,
   "id": "9973dc00",
   "metadata": {},
   "outputs": [
    {
     "data": {
      "text/plain": [
       "['this', 'class', 'is', 'difficult.']"
      ]
     },
     "execution_count": 4,
     "metadata": {},
     "output_type": "execute_result"
    }
   ],
   "source": [
    "sent.split()"
   ]
  },
  {
   "cell_type": "code",
   "execution_count": 5,
   "id": "5af25a63",
   "metadata": {},
   "outputs": [],
   "source": [
    "# step 2 remove punctuation\n",
    "punct = ['!','.',',','?']\n"
   ]
  },
  {
   "cell_type": "code",
   "execution_count": 6,
   "id": "c839fb8b",
   "metadata": {},
   "outputs": [
    {
     "name": "stdout",
     "output_type": "stream",
     "text": [
      "['t', 'h', 'i', 's', ' ', 'c', 'l', 'a', 's', 's', ' ', 'i', 's', ' ', 'd', 'i', 'f', 'f', 'i', 'c', 'u', 'l', 't']\n"
     ]
    }
   ],
   "source": [
    "char_list = []\n",
    "for char in sent:\n",
    "    if char not in punct:\n",
    "        char = char_list.append(char)\n",
    "        \n",
    "print(char_list)\n",
    "\n",
    "    "
   ]
  },
  {
   "cell_type": "code",
   "execution_count": 7,
   "id": "daf4ebde",
   "metadata": {},
   "outputs": [
    {
     "data": {
      "text/plain": [
       "'this class is difficult'"
      ]
     },
     "execution_count": 7,
     "metadata": {},
     "output_type": "execute_result"
    }
   ],
   "source": [
    "''.join(char_list)"
   ]
  },
  {
   "cell_type": "code",
   "execution_count": 8,
   "id": "8f38be09",
   "metadata": {},
   "outputs": [
    {
     "data": {
      "text/plain": [
       "'!\"#$%&\\'()*+,-./:;<=>?@[\\\\]^_`{|}~'"
      ]
     },
     "execution_count": 8,
     "metadata": {},
     "output_type": "execute_result"
    }
   ],
   "source": [
    "string.punctuation"
   ]
  },
  {
   "cell_type": "code",
   "execution_count": 9,
   "id": "1998be07",
   "metadata": {},
   "outputs": [],
   "source": [
    "# how to eliminate the loop\n",
    "senten = \"This class is difficult!! ,but fun?@ \"\n"
   ]
  },
  {
   "cell_type": "code",
   "execution_count": 10,
   "id": "45bb79f3",
   "metadata": {},
   "outputs": [
    {
     "data": {
      "text/plain": [
       "['T',\n",
       " 'h',\n",
       " 'i',\n",
       " 's',\n",
       " ' ',\n",
       " 'c',\n",
       " 'l',\n",
       " 'a',\n",
       " 's',\n",
       " 's',\n",
       " ' ',\n",
       " 'i',\n",
       " 's',\n",
       " ' ',\n",
       " 'd',\n",
       " 'i',\n",
       " 'f',\n",
       " 'f',\n",
       " 'i',\n",
       " 'c',\n",
       " 'u',\n",
       " 'l',\n",
       " 't',\n",
       " ' ',\n",
       " 'b',\n",
       " 'u',\n",
       " 't',\n",
       " ' ',\n",
       " 'f',\n",
       " 'u',\n",
       " 'n',\n",
       " ' ']"
      ]
     },
     "execution_count": 10,
     "metadata": {},
     "output_type": "execute_result"
    }
   ],
   "source": [
    "# list comprehension\n",
    "no_punct = [char for char in senten if char not in string.punctuation]\n",
    "no_punct"
   ]
  },
  {
   "cell_type": "code",
   "execution_count": 11,
   "id": "0df617a0",
   "metadata": {},
   "outputs": [
    {
     "data": {
      "text/plain": [
       "['This', 'class', 'is', 'difficult', 'but', 'fun']"
      ]
     },
     "execution_count": 11,
     "metadata": {},
     "output_type": "execute_result"
    }
   ],
   "source": [
    "''.join(no_punct).split()"
   ]
  },
  {
   "cell_type": "code",
   "execution_count": 12,
   "id": "ae368835",
   "metadata": {},
   "outputs": [
    {
     "data": {
      "text/plain": [
       "'this class is difficult but fun '"
      ]
     },
     "execution_count": 12,
     "metadata": {},
     "output_type": "execute_result"
    }
   ],
   "source": [
    "# step 3 convert to lowercase\n",
    "''.join(no_punct).lower()"
   ]
  },
  {
   "cell_type": "code",
   "execution_count": 13,
   "id": "6ad47f95",
   "metadata": {},
   "outputs": [],
   "source": [
    "sen = 'this1 is a difficult2 class' "
   ]
  },
  {
   "cell_type": "code",
   "execution_count": 14,
   "id": "e239bd60",
   "metadata": {},
   "outputs": [
    {
     "data": {
      "text/plain": [
       "'this is a difficult class'"
      ]
     },
     "execution_count": 14,
     "metadata": {},
     "output_type": "execute_result"
    }
   ],
   "source": [
    "# step 4 remove numbers\n",
    "no_num = [char for char in sen if char not in '1234567890']\n",
    "no_num_sent = ''.join(no_num)\n",
    "no_num_sent"
   ]
  },
  {
   "cell_type": "code",
   "execution_count": 15,
   "id": "45d6678d",
   "metadata": {},
   "outputs": [
    {
     "name": "stderr",
     "output_type": "stream",
     "text": [
      "2024-02-01 14:17:35.549 Python[32211:3323200] WARNING: Secure coding is not enabled for restorable state! Enable secure coding by implementing NSApplicationDelegate.applicationSupportsSecureRestorableState: and returning YES.\n"
     ]
    },
    {
     "name": "stdout",
     "output_type": "stream",
     "text": [
      "showing info https://raw.githubusercontent.com/nltk/nltk_data/gh-pages/index.xml\n"
     ]
    },
    {
     "data": {
      "text/plain": [
       "True"
      ]
     },
     "execution_count": 15,
     "metadata": {},
     "output_type": "execute_result"
    }
   ],
   "source": [
    "# step 5 remove stopwords\n",
    "import nltk\n",
    "import ssl\n",
    "\n",
    "try:\n",
    "    _create_unverified_https_context = ssl._create_unverified_context\n",
    "except AttributeError:\n",
    "    pass\n",
    "else:\n",
    "    ssl._create_default_https_context = _create_unverified_https_context\n",
    "\n",
    "nltk.download()"
   ]
  },
  {
   "cell_type": "code",
   "execution_count": 16,
   "id": "2cc4af9a",
   "metadata": {},
   "outputs": [],
   "source": [
    "from nltk.corpus import stopwords"
   ]
  },
  {
   "cell_type": "code",
   "execution_count": 17,
   "id": "590d5636",
   "metadata": {},
   "outputs": [
    {
     "data": {
      "text/plain": [
       "['i', 'me', 'my', 'myself', 'we', 'our', 'ours', 'ourselves', 'you']"
      ]
     },
     "execution_count": 17,
     "metadata": {},
     "output_type": "execute_result"
    }
   ],
   "source": [
    "stopwords.words('english')[0:9]"
   ]
  },
  {
   "cell_type": "code",
   "execution_count": 18,
   "id": "e410ded7",
   "metadata": {},
   "outputs": [
    {
     "data": {
      "text/plain": [
       "179"
      ]
     },
     "execution_count": 18,
     "metadata": {},
     "output_type": "execute_result"
    }
   ],
   "source": [
    "english_stopwords = stopwords.words('english')\n",
    "len(english_stopwords)"
   ]
  },
  {
   "cell_type": "code",
   "execution_count": 19,
   "id": "319d9d75",
   "metadata": {},
   "outputs": [
    {
     "data": {
      "text/plain": [
       "['this', 'is', 'a', 'difficult', 'class']"
      ]
     },
     "execution_count": 19,
     "metadata": {},
     "output_type": "execute_result"
    }
   ],
   "source": [
    "words = no_num_sent.split()\n",
    "words"
   ]
  },
  {
   "cell_type": "code",
   "execution_count": 20,
   "id": "e5688a29",
   "metadata": {},
   "outputs": [
    {
     "data": {
      "text/plain": [
       "['difficult', 'class']"
      ]
     },
     "execution_count": 20,
     "metadata": {},
     "output_type": "execute_result"
    }
   ],
   "source": [
    "clean = [word for word in words if word not in english_stopwords]\n",
    "clean\n"
   ]
  },
  {
   "cell_type": "markdown",
   "id": "4118c752",
   "metadata": {},
   "source": [
    "use nltk to perform preprocessing"
   ]
  },
  {
   "cell_type": "code",
   "execution_count": 21,
   "id": "33f81c98",
   "metadata": {},
   "outputs": [],
   "source": [
    "# Tokenization"
   ]
  },
  {
   "cell_type": "code",
   "execution_count": 22,
   "id": "fbfc484b",
   "metadata": {},
   "outputs": [],
   "source": [
    "from nltk.tokenize import word_tokenize, sent_tokenize"
   ]
  },
  {
   "cell_type": "code",
   "execution_count": 23,
   "id": "1abcd586",
   "metadata": {},
   "outputs": [
    {
     "data": {
      "text/plain": [
       "['this', 'is', 'my', 'name', '.', 'How', 'are', 'you', '?']"
      ]
     },
     "execution_count": 23,
     "metadata": {},
     "output_type": "execute_result"
    }
   ],
   "source": [
    "word_tokenize('this is my name. How are you?')"
   ]
  },
  {
   "cell_type": "code",
   "execution_count": 24,
   "id": "77ed6245",
   "metadata": {},
   "outputs": [
    {
     "data": {
      "text/plain": [
       "['this is my name.', 'How are you?']"
      ]
     },
     "execution_count": 24,
     "metadata": {},
     "output_type": "execute_result"
    }
   ],
   "source": [
    "sent_tokenize('this is my name. How are you?')"
   ]
  },
  {
   "cell_type": "code",
   "execution_count": 25,
   "id": "b1d1b633",
   "metadata": {},
   "outputs": [
    {
     "data": {
      "text/plain": [
       "['this is my name?', 'How are you']"
      ]
     },
     "execution_count": 25,
     "metadata": {},
     "output_type": "execute_result"
    }
   ],
   "source": [
    "sent_tokenize('this is my name? How are you')"
   ]
  },
  {
   "cell_type": "code",
   "execution_count": 26,
   "id": "bcae361f",
   "metadata": {},
   "outputs": [
    {
     "data": {
      "text/plain": [
       "['this is, my name?', 'How are!', 'you']"
      ]
     },
     "execution_count": 26,
     "metadata": {},
     "output_type": "execute_result"
    }
   ],
   "source": [
    "sent_tokenize('this is, my name? How are! you')"
   ]
  },
  {
   "cell_type": "code",
   "execution_count": 27,
   "id": "52f114d4",
   "metadata": {},
   "outputs": [],
   "source": [
    "# Stemming\n",
    "from nltk.stem.porter import PorterStemmer"
   ]
  },
  {
   "cell_type": "code",
   "execution_count": 28,
   "id": "bdcc7e2f",
   "metadata": {},
   "outputs": [],
   "source": [
    "ps = PorterStemmer()"
   ]
  },
  {
   "cell_type": "code",
   "execution_count": 29,
   "id": "303bcfac",
   "metadata": {},
   "outputs": [],
   "source": [
    "sent = 'runners like to run and there is loving like running'"
   ]
  },
  {
   "cell_type": "code",
   "execution_count": 30,
   "id": "cb4dea4c",
   "metadata": {},
   "outputs": [
    {
     "data": {
      "text/plain": [
       "['runner', 'like', 'to', 'run', 'and', 'there', 'is', 'love', 'like', 'run']"
      ]
     },
     "execution_count": 30,
     "metadata": {},
     "output_type": "execute_result"
    }
   ],
   "source": [
    "[ps.stem(word) for word in sent.split()]\n",
    "# worked for running"
   ]
  },
  {
   "cell_type": "markdown",
   "id": "3df7df6d",
   "metadata": {},
   "source": [
    "### Feature Extraction\n"
   ]
  },
  {
   "cell_type": "markdown",
   "id": "4afffb20",
   "metadata": {},
   "source": [
    "Bag of words"
   ]
  },
  {
   "cell_type": "code",
   "execution_count": 31,
   "id": "abe2ec4f",
   "metadata": {},
   "outputs": [],
   "source": [
    "import pandas as pd\n",
    "from sklearn.feature_extraction.text import CountVectorizer # transformers\n"
   ]
  },
  {
   "cell_type": "code",
   "execution_count": 32,
   "id": "185626b3",
   "metadata": {},
   "outputs": [],
   "source": [
    "# documents\n",
    "doc1 = \"Hi how are you doing? Hope you have a good day\"\n",
    "doc2 = \"Hey hope you are doing good. Wish you a pleasant day\"\n",
    "doc3 = \"Hi how have you been? Have a great day\""
   ]
  },
  {
   "cell_type": "code",
   "execution_count": 33,
   "id": "a377e6a8",
   "metadata": {},
   "outputs": [],
   "source": [
    "doc_list = [doc1, doc2, doc3]"
   ]
  },
  {
   "cell_type": "code",
   "execution_count": 34,
   "id": "ebc73307",
   "metadata": {},
   "outputs": [
    {
     "data": {
      "text/plain": [
       "['Hi how are you doing? Hope you have a good day',\n",
       " 'Hey hope you are doing good. Wish you a pleasant day',\n",
       " 'Hi how have you been? Have a great day']"
      ]
     },
     "execution_count": 34,
     "metadata": {},
     "output_type": "execute_result"
    }
   ],
   "source": [
    "doc_list"
   ]
  },
  {
   "cell_type": "code",
   "execution_count": 39,
   "id": "08357f03",
   "metadata": {},
   "outputs": [],
   "source": [
    "vectorizer1 = CountVectorizer()"
   ]
  },
  {
   "cell_type": "code",
   "execution_count": 42,
   "id": "1a46d7f6",
   "metadata": {},
   "outputs": [
    {
     "data": {
      "text/plain": [
       "{'hi': 8,\n",
       " 'how': 10,\n",
       " 'are': 0,\n",
       " 'you': 13,\n",
       " 'doing': 3,\n",
       " 'hope': 9,\n",
       " 'have': 6,\n",
       " 'good': 4,\n",
       " 'day': 2,\n",
       " 'hey': 7,\n",
       " 'wish': 12,\n",
       " 'pleasant': 11,\n",
       " 'been': 1,\n",
       " 'great': 5}"
      ]
     },
     "execution_count": 42,
     "metadata": {},
     "output_type": "execute_result"
    }
   ],
   "source": [
    "# indexes\n",
    "vectorizer1.vocabulary_"
   ]
  },
  {
   "cell_type": "code",
   "execution_count": 43,
   "id": "9ba4baf5",
   "metadata": {},
   "outputs": [
    {
     "data": {
      "text/plain": [
       "array(['are', 'been', 'day', 'doing', 'good', 'great', 'have', 'hey',\n",
       "       'hi', 'hope', 'how', 'pleasant', 'wish', 'you'], dtype=object)"
      ]
     },
     "execution_count": 43,
     "metadata": {},
     "output_type": "execute_result"
    }
   ],
   "source": [
    "vectorizer1.get_feature_names_out()"
   ]
  },
  {
   "cell_type": "code",
   "execution_count": 41,
   "id": "2c1627fa",
   "metadata": {},
   "outputs": [
    {
     "data": {
      "text/html": [
       "<style>#sk-container-id-1 {color: black;background-color: white;}#sk-container-id-1 pre{padding: 0;}#sk-container-id-1 div.sk-toggleable {background-color: white;}#sk-container-id-1 label.sk-toggleable__label {cursor: pointer;display: block;width: 100%;margin-bottom: 0;padding: 0.3em;box-sizing: border-box;text-align: center;}#sk-container-id-1 label.sk-toggleable__label-arrow:before {content: \"▸\";float: left;margin-right: 0.25em;color: #696969;}#sk-container-id-1 label.sk-toggleable__label-arrow:hover:before {color: black;}#sk-container-id-1 div.sk-estimator:hover label.sk-toggleable__label-arrow:before {color: black;}#sk-container-id-1 div.sk-toggleable__content {max-height: 0;max-width: 0;overflow: hidden;text-align: left;background-color: #f0f8ff;}#sk-container-id-1 div.sk-toggleable__content pre {margin: 0.2em;color: black;border-radius: 0.25em;background-color: #f0f8ff;}#sk-container-id-1 input.sk-toggleable__control:checked~div.sk-toggleable__content {max-height: 200px;max-width: 100%;overflow: auto;}#sk-container-id-1 input.sk-toggleable__control:checked~label.sk-toggleable__label-arrow:before {content: \"▾\";}#sk-container-id-1 div.sk-estimator input.sk-toggleable__control:checked~label.sk-toggleable__label {background-color: #d4ebff;}#sk-container-id-1 div.sk-label input.sk-toggleable__control:checked~label.sk-toggleable__label {background-color: #d4ebff;}#sk-container-id-1 input.sk-hidden--visually {border: 0;clip: rect(1px 1px 1px 1px);clip: rect(1px, 1px, 1px, 1px);height: 1px;margin: -1px;overflow: hidden;padding: 0;position: absolute;width: 1px;}#sk-container-id-1 div.sk-estimator {font-family: monospace;background-color: #f0f8ff;border: 1px dotted black;border-radius: 0.25em;box-sizing: border-box;margin-bottom: 0.5em;}#sk-container-id-1 div.sk-estimator:hover {background-color: #d4ebff;}#sk-container-id-1 div.sk-parallel-item::after {content: \"\";width: 100%;border-bottom: 1px solid gray;flex-grow: 1;}#sk-container-id-1 div.sk-label:hover label.sk-toggleable__label {background-color: #d4ebff;}#sk-container-id-1 div.sk-serial::before {content: \"\";position: absolute;border-left: 1px solid gray;box-sizing: border-box;top: 0;bottom: 0;left: 50%;z-index: 0;}#sk-container-id-1 div.sk-serial {display: flex;flex-direction: column;align-items: center;background-color: white;padding-right: 0.2em;padding-left: 0.2em;position: relative;}#sk-container-id-1 div.sk-item {position: relative;z-index: 1;}#sk-container-id-1 div.sk-parallel {display: flex;align-items: stretch;justify-content: center;background-color: white;position: relative;}#sk-container-id-1 div.sk-item::before, #sk-container-id-1 div.sk-parallel-item::before {content: \"\";position: absolute;border-left: 1px solid gray;box-sizing: border-box;top: 0;bottom: 0;left: 50%;z-index: -1;}#sk-container-id-1 div.sk-parallel-item {display: flex;flex-direction: column;z-index: 1;position: relative;background-color: white;}#sk-container-id-1 div.sk-parallel-item:first-child::after {align-self: flex-end;width: 50%;}#sk-container-id-1 div.sk-parallel-item:last-child::after {align-self: flex-start;width: 50%;}#sk-container-id-1 div.sk-parallel-item:only-child::after {width: 0;}#sk-container-id-1 div.sk-dashed-wrapped {border: 1px dashed gray;margin: 0 0.4em 0.5em 0.4em;box-sizing: border-box;padding-bottom: 0.4em;background-color: white;}#sk-container-id-1 div.sk-label label {font-family: monospace;font-weight: bold;display: inline-block;line-height: 1.2em;}#sk-container-id-1 div.sk-label-container {text-align: center;}#sk-container-id-1 div.sk-container {/* jupyter's `normalize.less` sets `[hidden] { display: none; }` but bootstrap.min.css set `[hidden] { display: none !important; }` so we also need the `!important` here to be able to override the default hidden behavior on the sphinx rendered scikit-learn.org. See: https://github.com/scikit-learn/scikit-learn/issues/21755 */display: inline-block !important;position: relative;}#sk-container-id-1 div.sk-text-repr-fallback {display: none;}</style><div id=\"sk-container-id-1\" class=\"sk-top-container\"><div class=\"sk-text-repr-fallback\"><pre>CountVectorizer()</pre><b>In a Jupyter environment, please rerun this cell to show the HTML representation or trust the notebook. <br />On GitHub, the HTML representation is unable to render, please try loading this page with nbviewer.org.</b></div><div class=\"sk-container\" hidden><div class=\"sk-item\"><div class=\"sk-estimator sk-toggleable\"><input class=\"sk-toggleable__control sk-hidden--visually\" id=\"sk-estimator-id-1\" type=\"checkbox\" checked><label for=\"sk-estimator-id-1\" class=\"sk-toggleable__label sk-toggleable__label-arrow\">CountVectorizer</label><div class=\"sk-toggleable__content\"><pre>CountVectorizer()</pre></div></div></div></div></div>"
      ],
      "text/plain": [
       "CountVectorizer()"
      ]
     },
     "execution_count": 41,
     "metadata": {},
     "output_type": "execute_result"
    }
   ],
   "source": [
    "vectorizer1.fit(doc_list)"
   ]
  },
  {
   "cell_type": "code",
   "execution_count": 45,
   "id": "1ff88fd8",
   "metadata": {},
   "outputs": [],
   "source": [
    "# transform (on same data used in fit)\n",
    "bag_of_words = vectorizer1.transform(doc_list)\n",
    "# when transform is used on new data, if any new words are there, they are ignored."
   ]
  },
  {
   "cell_type": "code",
   "execution_count": 46,
   "id": "6af9f888",
   "metadata": {},
   "outputs": [
    {
     "data": {
      "text/plain": [
       "scipy.sparse._csr.csr_matrix"
      ]
     },
     "execution_count": 46,
     "metadata": {},
     "output_type": "execute_result"
    }
   ],
   "source": [
    "type(bag_of_words)"
   ]
  },
  {
   "cell_type": "code",
   "execution_count": 47,
   "id": "f46888fe",
   "metadata": {},
   "outputs": [
    {
     "name": "stdout",
     "output_type": "stream",
     "text": [
      "  (0, 0)\t1\n",
      "  (0, 2)\t1\n",
      "  (0, 3)\t1\n",
      "  (0, 4)\t1\n",
      "  (0, 6)\t1\n",
      "  (0, 8)\t1\n",
      "  (0, 9)\t1\n",
      "  (0, 10)\t1\n",
      "  (0, 13)\t2\n",
      "  (1, 0)\t1\n",
      "  (1, 2)\t1\n",
      "  (1, 3)\t1\n",
      "  (1, 4)\t1\n",
      "  (1, 7)\t1\n",
      "  (1, 9)\t1\n",
      "  (1, 11)\t1\n",
      "  (1, 12)\t1\n",
      "  (1, 13)\t2\n",
      "  (2, 1)\t1\n",
      "  (2, 2)\t1\n",
      "  (2, 5)\t1\n",
      "  (2, 6)\t2\n",
      "  (2, 8)\t1\n",
      "  (2, 10)\t1\n",
      "  (2, 13)\t1\n"
     ]
    }
   ],
   "source": [
    "print(bag_of_words)"
   ]
  },
  {
   "cell_type": "code",
   "execution_count": 48,
   "id": "183ef531",
   "metadata": {},
   "outputs": [],
   "source": [
    "# Sparse matrix to Dense matrix\n",
    "DTM = pd.DataFrame(bag_of_words.todense(), columns=vectorizer1.get_feature_names_out())"
   ]
  },
  {
   "cell_type": "code",
   "execution_count": 49,
   "id": "1819c3ae",
   "metadata": {},
   "outputs": [
    {
     "data": {
      "text/html": [
       "<div>\n",
       "<style scoped>\n",
       "    .dataframe tbody tr th:only-of-type {\n",
       "        vertical-align: middle;\n",
       "    }\n",
       "\n",
       "    .dataframe tbody tr th {\n",
       "        vertical-align: top;\n",
       "    }\n",
       "\n",
       "    .dataframe thead th {\n",
       "        text-align: right;\n",
       "    }\n",
       "</style>\n",
       "<table border=\"1\" class=\"dataframe\">\n",
       "  <thead>\n",
       "    <tr style=\"text-align: right;\">\n",
       "      <th></th>\n",
       "      <th>are</th>\n",
       "      <th>been</th>\n",
       "      <th>day</th>\n",
       "      <th>doing</th>\n",
       "      <th>good</th>\n",
       "      <th>great</th>\n",
       "      <th>have</th>\n",
       "      <th>hey</th>\n",
       "      <th>hi</th>\n",
       "      <th>hope</th>\n",
       "      <th>how</th>\n",
       "      <th>pleasant</th>\n",
       "      <th>wish</th>\n",
       "      <th>you</th>\n",
       "    </tr>\n",
       "  </thead>\n",
       "  <tbody>\n",
       "    <tr>\n",
       "      <th>0</th>\n",
       "      <td>1</td>\n",
       "      <td>0</td>\n",
       "      <td>1</td>\n",
       "      <td>1</td>\n",
       "      <td>1</td>\n",
       "      <td>0</td>\n",
       "      <td>1</td>\n",
       "      <td>0</td>\n",
       "      <td>1</td>\n",
       "      <td>1</td>\n",
       "      <td>1</td>\n",
       "      <td>0</td>\n",
       "      <td>0</td>\n",
       "      <td>2</td>\n",
       "    </tr>\n",
       "    <tr>\n",
       "      <th>1</th>\n",
       "      <td>1</td>\n",
       "      <td>0</td>\n",
       "      <td>1</td>\n",
       "      <td>1</td>\n",
       "      <td>1</td>\n",
       "      <td>0</td>\n",
       "      <td>0</td>\n",
       "      <td>1</td>\n",
       "      <td>0</td>\n",
       "      <td>1</td>\n",
       "      <td>0</td>\n",
       "      <td>1</td>\n",
       "      <td>1</td>\n",
       "      <td>2</td>\n",
       "    </tr>\n",
       "    <tr>\n",
       "      <th>2</th>\n",
       "      <td>0</td>\n",
       "      <td>1</td>\n",
       "      <td>1</td>\n",
       "      <td>0</td>\n",
       "      <td>0</td>\n",
       "      <td>1</td>\n",
       "      <td>2</td>\n",
       "      <td>0</td>\n",
       "      <td>1</td>\n",
       "      <td>0</td>\n",
       "      <td>1</td>\n",
       "      <td>0</td>\n",
       "      <td>0</td>\n",
       "      <td>1</td>\n",
       "    </tr>\n",
       "  </tbody>\n",
       "</table>\n",
       "</div>"
      ],
      "text/plain": [
       "   are  been  day  doing  good  great  have  hey  hi  hope  how  pleasant   \n",
       "0    1     0    1      1     1      0     1    0   1     1    1         0  \\\n",
       "1    1     0    1      1     1      0     0    1   0     1    0         1   \n",
       "2    0     1    1      0     0      1     2    0   1     0    1         0   \n",
       "\n",
       "   wish  you  \n",
       "0     0    2  \n",
       "1     1    2  \n",
       "2     0    1  "
      ]
     },
     "execution_count": 49,
     "metadata": {},
     "output_type": "execute_result"
    }
   ],
   "source": [
    "DTM.head()"
   ]
  },
  {
   "cell_type": "code",
   "execution_count": 50,
   "id": "a8fc2b82",
   "metadata": {},
   "outputs": [],
   "source": [
    "# fit transform in one step\n",
    "bow = vectorizer1.fit_transform(doc_list)\n"
   ]
  },
  {
   "cell_type": "code",
   "execution_count": 51,
   "id": "41aaf851",
   "metadata": {},
   "outputs": [
    {
     "data": {
      "text/plain": [
       "scipy.sparse._csr.csr_matrix"
      ]
     },
     "execution_count": 51,
     "metadata": {},
     "output_type": "execute_result"
    }
   ],
   "source": [
    "type(bow)"
   ]
  },
  {
   "cell_type": "code",
   "execution_count": 52,
   "id": "33f67054",
   "metadata": {},
   "outputs": [],
   "source": [
    "# manage stopwords through count vectorizer\n",
    "vec2 = CountVectorizer(stop_words='english')"
   ]
  },
  {
   "cell_type": "code",
   "execution_count": 53,
   "id": "470a168d",
   "metadata": {},
   "outputs": [],
   "source": [
    "bow = vec2.fit_transform(doc_list)"
   ]
  },
  {
   "cell_type": "code",
   "execution_count": 54,
   "id": "5bc3edfc",
   "metadata": {},
   "outputs": [
    {
     "data": {
      "text/plain": [
       "array(['day', 'doing', 'good', 'great', 'hey', 'hi', 'hope', 'pleasant',\n",
       "       'wish'], dtype=object)"
      ]
     },
     "execution_count": 54,
     "metadata": {},
     "output_type": "execute_result"
    }
   ],
   "source": [
    "vec2.get_feature_names_out()"
   ]
  },
  {
   "cell_type": "code",
   "execution_count": 55,
   "id": "1ecb1c30",
   "metadata": {},
   "outputs": [],
   "source": [
    "from sklearn.feature_extraction.text import TfidfVectorizer"
   ]
  },
  {
   "cell_type": "code",
   "execution_count": 56,
   "id": "d8c9d260",
   "metadata": {},
   "outputs": [],
   "source": [
    "tfidf = TfidfVectorizer()"
   ]
  },
  {
   "cell_type": "code",
   "execution_count": 57,
   "id": "22f88d0f",
   "metadata": {},
   "outputs": [],
   "source": [
    "tfidf_bow = tfidf.fit_transform(doc_list)"
   ]
  },
  {
   "cell_type": "code",
   "execution_count": 58,
   "id": "2af64d8e",
   "metadata": {},
   "outputs": [
    {
     "name": "stdout",
     "output_type": "stream",
     "text": [
      "  (0, 2)\t0.24538953105440842\n",
      "  (0, 4)\t0.31598369990611125\n",
      "  (0, 6)\t0.31598369990611125\n",
      "  (0, 9)\t0.31598369990611125\n",
      "  (0, 3)\t0.31598369990611125\n",
      "  (0, 13)\t0.49077906210881683\n",
      "  (0, 0)\t0.31598369990611125\n",
      "  (0, 10)\t0.31598369990611125\n",
      "  (0, 8)\t0.31598369990611125\n",
      "  (1, 11)\t0.37641535700017453\n",
      "  (1, 12)\t0.37641535700017453\n",
      "  (1, 7)\t0.37641535700017453\n",
      "  (1, 2)\t0.22231697357561622\n",
      "  (1, 4)\t0.2862735812750573\n",
      "  (1, 9)\t0.2862735812750573\n",
      "  (1, 3)\t0.2862735812750573\n",
      "  (1, 13)\t0.44463394715123244\n",
      "  (1, 0)\t0.2862735812750573\n",
      "  (2, 5)\t0.40264842453137173\n",
      "  (2, 1)\t0.40264842453137173\n",
      "  (2, 2)\t0.23781064585195172\n",
      "  (2, 6)\t0.6124490106034753\n",
      "  (2, 13)\t0.23781064585195172\n",
      "  (2, 10)\t0.30622450530173767\n",
      "  (2, 8)\t0.30622450530173767\n"
     ]
    }
   ],
   "source": [
    "print(tfidf_bow)"
   ]
  },
  {
   "cell_type": "code",
   "execution_count": 59,
   "id": "16181017",
   "metadata": {},
   "outputs": [],
   "source": [
    "dense_bow = pd.DataFrame(tfidf_bow.todense(), columns = tfidf.get_feature_names_out())"
   ]
  },
  {
   "cell_type": "code",
   "execution_count": 60,
   "id": "0670a4c2",
   "metadata": {},
   "outputs": [
    {
     "data": {
      "text/html": [
       "<div>\n",
       "<style scoped>\n",
       "    .dataframe tbody tr th:only-of-type {\n",
       "        vertical-align: middle;\n",
       "    }\n",
       "\n",
       "    .dataframe tbody tr th {\n",
       "        vertical-align: top;\n",
       "    }\n",
       "\n",
       "    .dataframe thead th {\n",
       "        text-align: right;\n",
       "    }\n",
       "</style>\n",
       "<table border=\"1\" class=\"dataframe\">\n",
       "  <thead>\n",
       "    <tr style=\"text-align: right;\">\n",
       "      <th></th>\n",
       "      <th>are</th>\n",
       "      <th>been</th>\n",
       "      <th>day</th>\n",
       "      <th>doing</th>\n",
       "      <th>good</th>\n",
       "      <th>great</th>\n",
       "      <th>have</th>\n",
       "      <th>hey</th>\n",
       "      <th>hi</th>\n",
       "      <th>hope</th>\n",
       "      <th>how</th>\n",
       "      <th>pleasant</th>\n",
       "      <th>wish</th>\n",
       "      <th>you</th>\n",
       "    </tr>\n",
       "  </thead>\n",
       "  <tbody>\n",
       "    <tr>\n",
       "      <th>0</th>\n",
       "      <td>0.315984</td>\n",
       "      <td>0.000000</td>\n",
       "      <td>0.245390</td>\n",
       "      <td>0.315984</td>\n",
       "      <td>0.315984</td>\n",
       "      <td>0.000000</td>\n",
       "      <td>0.315984</td>\n",
       "      <td>0.000000</td>\n",
       "      <td>0.315984</td>\n",
       "      <td>0.315984</td>\n",
       "      <td>0.315984</td>\n",
       "      <td>0.000000</td>\n",
       "      <td>0.000000</td>\n",
       "      <td>0.490779</td>\n",
       "    </tr>\n",
       "    <tr>\n",
       "      <th>1</th>\n",
       "      <td>0.286274</td>\n",
       "      <td>0.000000</td>\n",
       "      <td>0.222317</td>\n",
       "      <td>0.286274</td>\n",
       "      <td>0.286274</td>\n",
       "      <td>0.000000</td>\n",
       "      <td>0.000000</td>\n",
       "      <td>0.376415</td>\n",
       "      <td>0.000000</td>\n",
       "      <td>0.286274</td>\n",
       "      <td>0.000000</td>\n",
       "      <td>0.376415</td>\n",
       "      <td>0.376415</td>\n",
       "      <td>0.444634</td>\n",
       "    </tr>\n",
       "    <tr>\n",
       "      <th>2</th>\n",
       "      <td>0.000000</td>\n",
       "      <td>0.402648</td>\n",
       "      <td>0.237811</td>\n",
       "      <td>0.000000</td>\n",
       "      <td>0.000000</td>\n",
       "      <td>0.402648</td>\n",
       "      <td>0.612449</td>\n",
       "      <td>0.000000</td>\n",
       "      <td>0.306225</td>\n",
       "      <td>0.000000</td>\n",
       "      <td>0.306225</td>\n",
       "      <td>0.000000</td>\n",
       "      <td>0.000000</td>\n",
       "      <td>0.237811</td>\n",
       "    </tr>\n",
       "  </tbody>\n",
       "</table>\n",
       "</div>"
      ],
      "text/plain": [
       "        are      been       day     doing      good     great      have   \n",
       "0  0.315984  0.000000  0.245390  0.315984  0.315984  0.000000  0.315984  \\\n",
       "1  0.286274  0.000000  0.222317  0.286274  0.286274  0.000000  0.000000   \n",
       "2  0.000000  0.402648  0.237811  0.000000  0.000000  0.402648  0.612449   \n",
       "\n",
       "        hey        hi      hope       how  pleasant      wish       you  \n",
       "0  0.000000  0.315984  0.315984  0.315984  0.000000  0.000000  0.490779  \n",
       "1  0.376415  0.000000  0.286274  0.000000  0.376415  0.376415  0.444634  \n",
       "2  0.000000  0.306225  0.000000  0.306225  0.000000  0.000000  0.237811  "
      ]
     },
     "execution_count": 60,
     "metadata": {},
     "output_type": "execute_result"
    }
   ],
   "source": [
    "dense_bow.head()"
   ]
  },
  {
   "cell_type": "markdown",
   "id": "edf3affd",
   "metadata": {},
   "source": []
  },
  {
   "cell_type": "code",
   "execution_count": null,
   "id": "98a2fe21",
   "metadata": {},
   "outputs": [],
   "source": []
  }
 ],
 "metadata": {
  "kernelspec": {
   "display_name": "Python 3 (ipykernel)",
   "language": "python",
   "name": "python3"
  },
  "language_info": {
   "codemirror_mode": {
    "name": "ipython",
    "version": 3
   },
   "file_extension": ".py",
   "mimetype": "text/x-python",
   "name": "python",
   "nbconvert_exporter": "python",
   "pygments_lexer": "ipython3",
   "version": "3.11.2"
  }
 },
 "nbformat": 4,
 "nbformat_minor": 5
}
